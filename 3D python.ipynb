{
 "cells": [
  {
   "cell_type": "code",
   "execution_count": 3,
   "id": "5d57bbd8",
   "metadata": {},
   "outputs": [],
   "source": [
    "import scipy.io\n",
    "import numpy as np\n",
    "\n",
    "# Load the .mat file\n",
    "mat_data = scipy.io.loadmat('data.mat')\n",
    "\n",
    "# Extract the 3D data\n",
    "data_3d = mat_data['data_3d']\n",
    "\n",
    "# Save the data as a numpy file\n",
    "np.save('data.npy', data_3d)"
   ]
  },
  {
   "cell_type": "code",
   "execution_count": 4,
   "id": "1da48c75",
   "metadata": {},
   "outputs": [
    {
     "name": "stdout",
     "output_type": "stream",
     "text": [
      "(100, 100, 100)\n"
     ]
    }
   ],
   "source": [
    "# Load the saved numpy file\n",
    "loaded_data = np.load('data.npy')\n",
    "\n",
    "# Print the shape of the loaded data\n",
    "print(loaded_data.shape)"
   ]
  },
  {
   "cell_type": "code",
   "execution_count": null,
   "id": "a48ee33e",
   "metadata": {},
   "outputs": [],
   "source": []
  }
 ],
 "metadata": {
  "kernelspec": {
   "display_name": "Python 3 (ipykernel)",
   "language": "python",
   "name": "python3"
  },
  "language_info": {
   "codemirror_mode": {
    "name": "ipython",
    "version": 3
   },
   "file_extension": ".py",
   "mimetype": "text/x-python",
   "name": "python",
   "nbconvert_exporter": "python",
   "pygments_lexer": "ipython3",
   "version": "3.10.10"
  }
 },
 "nbformat": 4,
 "nbformat_minor": 5
}
