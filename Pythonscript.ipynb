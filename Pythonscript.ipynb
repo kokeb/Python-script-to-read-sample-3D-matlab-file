import scipy.io
import numpy as np

# Load the .mat file
mat_data = scipy.io.loadmat('data.mat')

# Extract the 3D data
data_3d = mat_data['data_3d']

# Save the data as a numpy file
np.save('data.npy', data_3d)

# Load the saved numpy file
loaded_data = np.load('data.npy')

# Print the shape of the loaded data
print(loaded_data.shape)
